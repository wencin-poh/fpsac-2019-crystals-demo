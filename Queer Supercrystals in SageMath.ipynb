{
 "cells": [
  {
   "cell_type": "markdown",
   "metadata": {
    "collapsed": false
   },
   "source": [
    "Welcome to the demo of queer supercrystals in SageMath."
   ]
  },
  {
   "cell_type": "markdown",
   "metadata": {
    "collapsed": false
   },
   "source": [
    "Firstly, one can create queer crystal on letters of type $q(2+1)$"
   ]
  },
  {
   "cell_type": "code",
   "execution_count": 0,
   "metadata": {
    "collapsed": false
   },
   "outputs": [
   ],
   "source": [
    "Q = crystals.Letters(['Q',3]); Q"
   ]
  },
  {
   "cell_type": "markdown",
   "metadata": {
    "collapsed": false
   },
   "source": [
    "Then, one can create a crystal on words (length 6) and obtain its index set."
   ]
  },
  {
   "cell_type": "code",
   "execution_count": 0,
   "metadata": {
    "collapsed": false
   },
   "outputs": [
   ],
   "source": [
    "T = tensor([Q]*6)\n",
    "T.index_set()"
   ]
  },
  {
   "cell_type": "markdown",
   "metadata": {
    "collapsed": false
   },
   "source": [
    "The following lists all highest weight elements in this crystal."
   ]
  },
  {
   "cell_type": "code",
   "execution_count": 0,
   "metadata": {
    "collapsed": false
   },
   "outputs": [
   ],
   "source": [
    "[t for t in T if all(t.epsilon(i)==0 for i in Q.index_set())]"
   ]
  },
  {
   "cell_type": "markdown",
   "metadata": {
    "collapsed": false
   },
   "source": [
    "One can view the associated crystal graph in a pop up window. This feature requires tikz and dot2tex."
   ]
  },
  {
   "cell_type": "code",
   "execution_count": 0,
   "metadata": {
    "collapsed": false
   },
   "outputs": [
   ],
   "source": [
    "# local hack to show latex figures\n",
    "# on local version of Sage, use view\n",
    "from viewLatex import viewLatex"
   ]
  },
  {
   "cell_type": "code",
   "execution_count": 0,
   "metadata": {
    "collapsed": false
   },
   "outputs": [
   ],
   "source": [
    "Q = crystals.Letters(['Q',3])\n",
    "T = tensor([Q]*2)\n",
    "viewLatex(T)"
   ]
  },
  {
   "cell_type": "markdown",
   "metadata": {
    "collapsed": false
   },
   "source": [
    "One can obtain the LaTeX commands for the crystal graphs to be included in .tex files"
   ]
  },
  {
   "cell_type": "code",
   "execution_count": 0,
   "metadata": {
    "collapsed": false
   },
   "outputs": [
   ],
   "source": [
    "latex(T)"
   ]
  },
  {
   "cell_type": "markdown",
   "metadata": {
    "collapsed": false
   },
   "source": [
    "One can restrict to a subcrystal given a crystal element and subset of indices. "
   ]
  },
  {
   "cell_type": "code",
   "execution_count": 0,
   "metadata": {
    "collapsed": false
   },
   "outputs": [
   ],
   "source": [
    "C = T.subcrystal(generators=[T(Q(1),Q(2),Q(1),Q(1))], index_set=[1,2,-1])\n",
    "viewLatex(C)"
   ]
  },
  {
   "cell_type": "markdown",
   "metadata": {
    "collapsed": false
   },
   "source": [
    "Full options for subcrystal are available in documentation. Run ? after a method, attribute or object to see its documentation.\n"
   ]
  },
  {
   "cell_type": "code",
   "execution_count": 0,
   "metadata": {
    "collapsed": false
   },
   "outputs": [
   ],
   "source": [
    "T.subcrystal?"
   ]
  },
  {
   "cell_type": "markdown",
   "metadata": {
    "collapsed": false
   },
   "source": [
    "One can write extra code to construct a type $A_n$ component graph given a dominant weight."
   ]
  },
  {
   "cell_type": "code",
   "execution_count": 0,
   "metadata": {
    "collapsed": false
   },
   "outputs": [
   ],
   "source": [
    "def reading_word_highest(P,n):\n",
    "    \"\"\"\n",
    "    Returns a highest weight word given a strict partition P and n.\n",
    "    Note that n must be at least the number of parts of P.\n",
    "\n",
    "    EXAMPLE::\n",
    "\n",
    "    sage: reading_word_highest([5,3,2],4)\n",
    "    [1,1,2,3,3,1,2,2,1,1]\n",
    "\n",
    "    \"\"\"\n",
    "    if n < len(P):\n",
    "        raise ValueError(\"n must be at least %s\" %len(P))\n",
    "    Q = crystals.Letters(['Q',n])\n",
    "    T = tensor([Q]*sum(P))\n",
    "    L = P+[0]\n",
    "    w = []\n",
    "    for m in range(len(P)):\n",
    "        for k in range(len(P)-m):\n",
    "            w += [Q(k+1)]*(L[m+k]-L[m+k+1])\n",
    "    return T(*w)\n",
    "\n",
    "def G_C_graph(P,n):\n",
    "    \"\"\"\n",
    "    Creates a graph `G(C)` of type `A_n` component graphs given strict partition P.\n",
    "    Note that n must be at least len(P).\n",
    "\n",
    "    EXAMPLES::\n",
    "\n",
    "        sage: P = Partition([5,2])\n",
    "        sage: G_C_graph(P,5)\n",
    "        Digraph on 13 vertices\n",
    "    \"\"\"\n",
    "    if len([i for i in range(len(P)-1) if P[i]<=P[i+1]]) > 0:\n",
    "        raise ValueError(\"P must be a strict partition\")\n",
    "    if n < len(P):\n",
    "        raise ValueError(\"n must be at least len(P)\")\n",
    "    I = range(1,n)\n",
    "    t = reading_word_highest(P,n)\n",
    "    V = [t]\n",
    "    j = 0\n",
    "    while j<len(V):\n",
    "        u = V[j]\n",
    "        L = [(i,h) for i in I for h in I+[n] if h>i and lowering(u,i,h)!=None]\n",
    "        for l in L:\n",
    "            i,h = l\n",
    "            v = lowering(u,i,h).f(-i)\n",
    "            if v != None and v.is_highest_weight(index_set=I)==True:\n",
    "                if v not in V:\n",
    "                    V += [v]\n",
    "        j += 1\n",
    "\n",
    "    E = set([])\n",
    "    j = 0\n",
    "    while j<len(V):\n",
    "        v = V[j]\n",
    "        I = range(1,n)\n",
    "        for i in I:\n",
    "            u = v.e(-i)\n",
    "            if u != None:\n",
    "                u = u.to_highest_weight(index_set=I)[0]\n",
    "                E.add(tuple([u,v]))\n",
    "        j += 1\n",
    "\n",
    "    G = DiGraph([sorted(V),sorted(list(E))],format='vertices_and_edges')\n",
    "    G.set_latex_options(format='dot2tex')\n",
    "    return G\n",
    "\n",
    "def lowering(t,i,h):\n",
    "    \"\"\"\n",
    "    Computes the composition f_{h-1}...f_{i+1} of t, where i<h.\n",
    "\n",
    "    EXAMPLES::\n",
    "        sage: Q = crystals.Letters(['Q',5])\n",
    "        sage: T = tensor([Q]*6)\n",
    "        sage: u = T(Q(4),Q(3),Q(2),Q(1),Q(2),Q(1))\n",
    "        sage: lowering(u,2,5)\n",
    "        [5, 4, 2, 1, 2, 1]\n",
    "    \"\"\"\n",
    "    if h<=i:\n",
    "        raise ValueError(\"h must be greater than i\")\n",
    "    w = t\n",
    "    for j in range(-h+1,-i):\n",
    "        w = w.f(-j)\n",
    "        if w == None:\n",
    "            return None\n",
    "    return w"
   ]
  },
  {
   "cell_type": "markdown",
   "metadata": {
    "collapsed": false
   },
   "source": [
    "The following blocks runs the example of a type $A_n$ graph for dominant weight (5,2,0,0,0)."
   ]
  },
  {
   "cell_type": "code",
   "execution_count": 0,
   "metadata": {
    "collapsed": false
   },
   "outputs": [
   ],
   "source": [
    "P = Partition([5,2])\n",
    "G = G_C_graph(P,5)\n",
    "viewLatex(G)"
   ]
  }
 ],
 "metadata": {
  "kernelspec": {
   "display_name": "SageMath (stable)",
   "language": "sagemath",
   "metadata": {
    "cocalc": {
     "description": "Open-source mathematical software system",
     "priority": 10,
     "url": "https://www.sagemath.org/"
    }
   },
   "name": "sagemath"
  },
  "language_info": {
   "codemirror_mode": {
    "name": "ipython",
    "version": 2
   },
   "file_extension": ".py",
   "mimetype": "text/x-python",
   "name": "python",
   "nbconvert_exporter": "python",
   "pygments_lexer": "ipython2",
   "version": "2.7.15"
  }
 },
 "nbformat": 4,
 "nbformat_minor": 0
}